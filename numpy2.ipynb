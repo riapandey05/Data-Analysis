{
 "cells": [
  {
   "cell_type": "markdown",
   "id": "02fc6565",
   "metadata": {},
   "source": [
    "Statistical Concepts --> Normalization\n",
    "\n",
    "why?\n",
    "To have a mean of 0 and standard deviation of 1"
   ]
  },
  {
   "cell_type": "code",
   "execution_count": 1,
   "id": "1536012b",
   "metadata": {},
   "outputs": [],
   "source": [
    "import numpy as np"
   ]
  },
  {
   "cell_type": "code",
   "execution_count": 2,
   "id": "acfdc6ae",
   "metadata": {},
   "outputs": [],
   "source": [
    "data = np.array([1,2,3,4,5])\n"
   ]
  },
  {
   "cell_type": "code",
   "execution_count": 3,
   "id": "02bee8f1",
   "metadata": {},
   "outputs": [],
   "source": [
    "# calulate mean and standard deviation\n",
    "mean = np.mean(data)\n",
    "std_dev = np.std(data)"
   ]
  },
  {
   "cell_type": "code",
   "execution_count": 4,
   "id": "9da0df15",
   "metadata": {},
   "outputs": [
    {
     "name": "stdout",
     "output_type": "stream",
     "text": [
      "Original Data:  [1 2 3 4 5]\n",
      "Mean:  3.0\n",
      "Standard Deviation:  1.4142135623730951\n",
      "Normalized Data:  [-1.41421356 -0.70710678  0.          0.70710678  1.41421356]\n"
     ]
    }
   ],
   "source": [
    "# normalize the data\n",
    "normalized_data = (data - mean) / std_dev\n",
    "print(\"Original Data: \", data)\n",
    "print(\"Mean: \", mean)\n",
    "print(\"Standard Deviation: \", std_dev)\n",
    "print(\"Normalized Data: \", normalized_data)"
   ]
  },
  {
   "cell_type": "markdown",
   "id": "dc5af677",
   "metadata": {},
   "source": [
    "Logical operations"
   ]
  },
  {
   "cell_type": "code",
   "execution_count": 6,
   "id": "838de583",
   "metadata": {},
   "outputs": [
    {
     "data": {
      "text/plain": [
       "array([False, False, False, False, False,  True,  True,  True,  True,\n",
       "        True])"
      ]
     },
     "execution_count": 6,
     "metadata": {},
     "output_type": "execute_result"
    }
   ],
   "source": [
    "data = np.array([1,2,3,4,5,6,7,8,9,10]) \n",
    "data>5"
   ]
  },
  {
   "cell_type": "code",
   "execution_count": 9,
   "id": "6d87bb1f",
   "metadata": {},
   "outputs": [
    {
     "data": {
      "text/plain": [
       "array([6, 7])"
      ]
     },
     "execution_count": 9,
     "metadata": {},
     "output_type": "execute_result"
    }
   ],
   "source": [
    "data[(data>5) & (data<8)] "
   ]
  }
 ],
 "metadata": {
  "kernelspec": {
   "display_name": "Python 3",
   "language": "python",
   "name": "python3"
  },
  "language_info": {
   "codemirror_mode": {
    "name": "ipython",
    "version": 3
   },
   "file_extension": ".py",
   "mimetype": "text/x-python",
   "name": "python",
   "nbconvert_exporter": "python",
   "pygments_lexer": "ipython3",
   "version": "3.12.0"
  }
 },
 "nbformat": 4,
 "nbformat_minor": 5
}
