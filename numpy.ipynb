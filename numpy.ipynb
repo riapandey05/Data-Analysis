{
 "cells": [
  {
   "cell_type": "markdown",
   "id": "79b89d24",
   "metadata": {},
   "source": [
    "Numpy\n"
   ]
  },
  {
   "cell_type": "code",
   "execution_count": 1,
   "id": "fe70ec97",
   "metadata": {},
   "outputs": [],
   "source": [
    "import numpy as np"
   ]
  },
  {
   "cell_type": "markdown",
   "id": "2e71c94f",
   "metadata": {},
   "source": [
    "create 1D array using numpy\n"
   ]
  },
  {
   "cell_type": "code",
   "execution_count": 2,
   "id": "839c12a1",
   "metadata": {},
   "outputs": [
    {
     "name": "stdout",
     "output_type": "stream",
     "text": [
      "[1 2 3]\n",
      "<class 'numpy.ndarray'>\n",
      "(3,)\n"
     ]
    }
   ],
   "source": [
    "arr1=np.array([1,2,3])\n",
    "print(arr1)\n",
    "print(type(arr1))\n",
    "print(arr1.shape)"
   ]
  },
  {
   "cell_type": "markdown",
   "id": "70587ad0",
   "metadata": {},
   "source": [
    "converting it to 2D"
   ]
  },
  {
   "cell_type": "code",
   "execution_count": 3,
   "id": "c3620b0f",
   "metadata": {},
   "outputs": [
    {
     "data": {
      "text/plain": [
       "array([[1, 2, 3, 4, 5]])"
      ]
     },
     "execution_count": 3,
     "metadata": {},
     "output_type": "execute_result"
    }
   ],
   "source": [
    "arr2=np.array([1,2,3,4,5])\n",
    "arr2.reshape(1,5) \n",
    "# 1 row and 5 columns"
   ]
  },
  {
   "cell_type": "markdown",
   "id": "8a12c5f8",
   "metadata": {},
   "source": [
    "Make 2D directly"
   ]
  },
  {
   "cell_type": "code",
   "execution_count": 4,
   "id": "f04df428",
   "metadata": {},
   "outputs": [
    {
     "name": "stdout",
     "output_type": "stream",
     "text": [
      "[[1 2 3]\n",
      " [4 5 6]]\n",
      "(2, 3)\n"
     ]
    }
   ],
   "source": [
    "arr2=np.array([[1,2,3],[4,5,6]])\n",
    "print(arr2)\n",
    "print(arr2.shape)"
   ]
  },
  {
   "cell_type": "markdown",
   "id": "6a5ad9f2",
   "metadata": {},
   "source": [
    "create arrays with some in built functions"
   ]
  },
  {
   "cell_type": "code",
   "execution_count": 8,
   "id": "8a2521cf",
   "metadata": {},
   "outputs": [
    {
     "data": {
      "text/plain": [
       "array([0, 2, 4, 6, 8])"
      ]
     },
     "execution_count": 8,
     "metadata": {},
     "output_type": "execute_result"
    }
   ],
   "source": [
    "np.arange(0,10,2)\n",
    "\n"
   ]
  },
  {
   "cell_type": "code",
   "execution_count": 9,
   "id": "263ca3c2",
   "metadata": {},
   "outputs": [
    {
     "data": {
      "text/plain": [
       "array([[0],\n",
       "       [2],\n",
       "       [4],\n",
       "       [6],\n",
       "       [8]])"
      ]
     },
     "execution_count": 9,
     "metadata": {},
     "output_type": "execute_result"
    }
   ],
   "source": [
    "np.arange(0,10,2).reshape(5,1)"
   ]
  },
  {
   "cell_type": "code",
   "execution_count": 10,
   "id": "ccbd7156",
   "metadata": {},
   "outputs": [
    {
     "data": {
      "text/plain": [
       "array([[1., 1., 1., 1.],\n",
       "       [1., 1., 1., 1.],\n",
       "       [1., 1., 1., 1.]])"
      ]
     },
     "execution_count": 10,
     "metadata": {},
     "output_type": "execute_result"
    }
   ],
   "source": [
    "np.ones((3,4))"
   ]
  },
  {
   "cell_type": "code",
   "execution_count": 11,
   "id": "ab8c7853",
   "metadata": {},
   "outputs": [
    {
     "data": {
      "text/plain": [
       "array([[1., 0., 0.],\n",
       "       [0., 1., 0.],\n",
       "       [0., 0., 1.]])"
      ]
     },
     "execution_count": 11,
     "metadata": {},
     "output_type": "execute_result"
    }
   ],
   "source": [
    "# identity matrix\n",
    "np.eye(3)"
   ]
  },
  {
   "cell_type": "markdown",
   "id": "749414d0",
   "metadata": {},
   "source": [
    "attributes of numpy array"
   ]
  },
  {
   "cell_type": "code",
   "execution_count": 12,
   "id": "29f882aa",
   "metadata": {},
   "outputs": [
    {
     "name": "stdout",
     "output_type": "stream",
     "text": [
      "array [[1 2 3]\n",
      " [4 5 6]]\n",
      "shape (2, 3)\n",
      "number of dimensions 2\n",
      "size 6\n",
      "data type int32\n",
      "item size in bytes 4\n"
     ]
    }
   ],
   "source": [
    "arr2=np.array([[1,2,3],[4,5,6]])\n",
    "print(\"array\",arr2)\n",
    "print(\"shape\",arr2.shape)\n",
    "print(\"number of dimensions\",arr2.ndim)\n",
    "print(\"size\",arr2.size)\n",
    "print(\"data type\",arr2.dtype)\n",
    "print(\"item size in bytes\",arr2.itemsize)\n"
   ]
  },
  {
   "cell_type": "markdown",
   "id": "55e6c15e",
   "metadata": {},
   "source": [
    "Vectorized operations on Numpy"
   ]
  },
  {
   "cell_type": "code",
   "execution_count": 13,
   "id": "ec187ee2",
   "metadata": {},
   "outputs": [],
   "source": [
    "arr1 = np.array([1, 2, 3,4,5])\n",
    "arr2 = np.array([6, 7, 8,9,10])\n"
   ]
  },
  {
   "cell_type": "code",
   "execution_count": 15,
   "id": "0fd0dab5",
   "metadata": {},
   "outputs": [
    {
     "name": "stdout",
     "output_type": "stream",
     "text": [
      "arr1 + arr2 =  [ 7  9 11 13 15]\n",
      "arr1 - arr2 =  [-5 -5 -5 -5 -5]\n",
      "arr1 * arr2 =  [ 6 14 24 36 50]\n"
     ]
    }
   ],
   "source": [
    "# element-wise addition\n",
    "arr3 = arr1 + arr2\n",
    "print(\"arr1 + arr2 = \", arr3)\n",
    "# similarly for subtraction, multiplication and division\n",
    "arr4 = arr1 - arr2      \n",
    "print(\"arr1 - arr2 = \", arr4)\n",
    "arr5 = arr1 * arr2\n",
    "print(\"arr1 * arr2 = \", arr5)"
   ]
  },
  {
   "cell_type": "code",
   "execution_count": 16,
   "id": "39e66b22",
   "metadata": {},
   "outputs": [
    {
     "name": "stdout",
     "output_type": "stream",
     "text": [
      "sqrt(arr) =  [1.         1.41421356 1.73205081 2.        ]\n",
      "exp(arr) =  [ 2.71828183  7.3890561  20.08553692 54.59815003]\n",
      "sin(arr) =  [ 0.84147098  0.90929743  0.14112001 -0.7568025 ]\n",
      "log(arr) =  [0.         0.69314718 1.09861229 1.38629436]\n"
     ]
    }
   ],
   "source": [
    "# universal functions\n",
    "arr = np.array([1, 2, 3, 4])\n",
    "# sqrt\n",
    "print(\"sqrt(arr) = \", np.sqrt(arr))\n",
    "# exponential\n",
    "print(\"exp(arr) = \", np.exp(arr))\n",
    "# sine\n",
    "print(\"sin(arr) = \", np.sin(arr))\n",
    "# logarithm\n",
    "print(\"log(arr) = \", np.log(arr))"
   ]
  }
 ],
 "metadata": {
  "kernelspec": {
   "display_name": "Python 3",
   "language": "python",
   "name": "python3"
  },
  "language_info": {
   "codemirror_mode": {
    "name": "ipython",
    "version": 3
   },
   "file_extension": ".py",
   "mimetype": "text/x-python",
   "name": "python",
   "nbconvert_exporter": "python",
   "pygments_lexer": "ipython3",
   "version": "3.12.0"
  }
 },
 "nbformat": 4,
 "nbformat_minor": 5
}
